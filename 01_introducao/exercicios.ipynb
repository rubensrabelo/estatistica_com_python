{
 "cells": [
  {
   "cell_type": "markdown",
   "metadata": {},
   "source": [
    "# **Capítulo 01**"
   ]
  },
  {
   "cell_type": "code",
   "execution_count": 6,
   "metadata": {},
   "outputs": [],
   "source": [
    "import math"
   ]
  },
  {
   "cell_type": "code",
   "execution_count": 9,
   "metadata": {},
   "outputs": [],
   "source": [
    "def mean(*values: tuple[float]) -> float:\n",
    "  return sum(values) / len(values)\n",
    "\n",
    "def variance(mean: float, *values: tuple[float]) -> float:\n",
    "  sum_of_squares: float = sum((x - mean) ** 2 for x in values)\n",
    "  return   sum_of_squares / (len(values) - 1)\n",
    "\n",
    "def standard_deviation(variance: float) -> float:\n",
    "  return math.sqrt(variance)"
   ]
  },
  {
   "cell_type": "code",
   "execution_count": 10,
   "metadata": {},
   "outputs": [
    {
     "name": "stdout",
     "output_type": "stream",
     "text": [
      "A Média é = 6.50\n",
      "A variância é = 3.50\n",
      "O desvio padrão é = 1.87\n"
     ]
    }
   ],
   "source": [
    "# Questão 01\n",
    "\n",
    "values: list[float] = [7, 8, 6, 5, 9, 4]\n",
    "\n",
    "# a) Média\n",
    "mean: float = mean(*values)\n",
    "print(f\"A Média é = {mean:.2f}\")\n",
    "\n",
    "# b) Variança\n",
    "variance: float = variance(mean, *values)\n",
    "print(f\"A variância é = {variance:.2f}\")\n",
    "\n",
    "# c) Desvio Padrão\n",
    "standard_deviation: float = standard_deviation(variance)\n",
    "print(f\"O desvio padrão é = {standard_deviation:.2f}\")"
   ]
  },
  {
   "cell_type": "code",
   "execution_count": null,
   "metadata": {},
   "outputs": [],
   "source": []
  }
 ],
 "metadata": {
  "kernelspec": {
   "display_name": "Python 3",
   "language": "python",
   "name": "python3"
  },
  "language_info": {
   "codemirror_mode": {
    "name": "ipython",
    "version": 3
   },
   "file_extension": ".py",
   "mimetype": "text/x-python",
   "name": "python",
   "nbconvert_exporter": "python",
   "pygments_lexer": "ipython3",
   "version": "3.12.1"
  }
 },
 "nbformat": 4,
 "nbformat_minor": 2
}
