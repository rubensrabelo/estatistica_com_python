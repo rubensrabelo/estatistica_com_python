{
 "cells": [
  {
   "cell_type": "markdown",
   "metadata": {},
   "source": [
    "# **Capítulo 03 - Análise Exploratória de Dados**"
   ]
  },
  {
   "cell_type": "code",
   "execution_count": null,
   "metadata": {},
   "outputs": [],
   "source": []
  },
  {
   "cell_type": "code",
   "execution_count": null,
   "metadata": {},
   "outputs": [],
   "source": [
    "# Questão 01\n",
    "# b)\n",
    "\n",
    "# Frequências das respsotas\n",
    "\n",
    "{\n",
    "    \"a\": 8,\n",
    "    \"b\": 7,\n",
    "    \"c\": 7,\n",
    "    \"d\": 12,\n",
    "    \"e\": 2,\n",
    "    \"f\": 4,\n",
    "    \"g\": 3,\n",
    "    \"h\": 21,\n",
    "    \"i\": 6,\n",
    "    \"j\": 0\n",
    "}"
   ]
  }
 ],
 "metadata": {
  "kernelspec": {
   "display_name": "Python 3",
   "language": "python",
   "name": "python3"
  },
  "language_info": {
   "name": "python",
   "version": "3.12.1"
  }
 },
 "nbformat": 4,
 "nbformat_minor": 2
}
